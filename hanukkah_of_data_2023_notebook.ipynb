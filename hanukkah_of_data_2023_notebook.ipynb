{
 "cells": [
  {
   "cell_type": "code",
   "execution_count": 1,
   "metadata": {},
   "outputs": [],
   "source": [
    "import pandas as pd\n",
    "import numpy as np\n",
    "cus_df = pd.read_csv(\"noahs-customers.csv\")\n"
   ]
  },
  {
   "cell_type": "code",
   "execution_count": 2,
   "metadata": {
    "scrolled": true
   },
   "outputs": [
    {
     "data": {
      "text/html": [
       "<div>\n",
       "<style scoped>\n",
       "    .dataframe tbody tr th:only-of-type {\n",
       "        vertical-align: middle;\n",
       "    }\n",
       "\n",
       "    .dataframe tbody tr th {\n",
       "        vertical-align: top;\n",
       "    }\n",
       "\n",
       "    .dataframe thead th {\n",
       "        text-align: right;\n",
       "    }\n",
       "</style>\n",
       "<table border=\"1\" class=\"dataframe\">\n",
       "  <thead>\n",
       "    <tr style=\"text-align: right;\">\n",
       "      <th></th>\n",
       "      <th>customerid</th>\n",
       "      <th>name</th>\n",
       "      <th>address</th>\n",
       "      <th>citystatezip</th>\n",
       "      <th>birthdate</th>\n",
       "      <th>phone</th>\n",
       "      <th>timezone</th>\n",
       "      <th>lat</th>\n",
       "      <th>long</th>\n",
       "    </tr>\n",
       "  </thead>\n",
       "  <tbody>\n",
       "    <tr>\n",
       "      <th>0</th>\n",
       "      <td>1001</td>\n",
       "      <td>Jacqueline Alvarez</td>\n",
       "      <td>105N Elizabeth St</td>\n",
       "      <td>Manhattan, NY 10013</td>\n",
       "      <td>1958-01-23</td>\n",
       "      <td>315-377-5031</td>\n",
       "      <td>America/New_York</td>\n",
       "      <td>40.71817</td>\n",
       "      <td>-73.997468</td>\n",
       "    </tr>\n",
       "    <tr>\n",
       "      <th>1</th>\n",
       "      <td>1002</td>\n",
       "      <td>Julie Howell</td>\n",
       "      <td>185-1 Linden St</td>\n",
       "      <td>Brooklyn, NY 11221</td>\n",
       "      <td>1956-12-03</td>\n",
       "      <td>680-537-8725</td>\n",
       "      <td>America/New_York</td>\n",
       "      <td>40.69426</td>\n",
       "      <td>-73.921670</td>\n",
       "    </tr>\n",
       "    <tr>\n",
       "      <th>2</th>\n",
       "      <td>1003</td>\n",
       "      <td>Christopher Ali</td>\n",
       "      <td>174-28 Baisley Blvd</td>\n",
       "      <td>Jamaica, NY 11434</td>\n",
       "      <td>2001-09-20</td>\n",
       "      <td>315-846-6054</td>\n",
       "      <td>America/New_York</td>\n",
       "      <td>40.68902</td>\n",
       "      <td>-73.773470</td>\n",
       "    </tr>\n",
       "    <tr>\n",
       "      <th>3</th>\n",
       "      <td>1004</td>\n",
       "      <td>Christopher Rodriguez</td>\n",
       "      <td>102 Mount Hope Pl</td>\n",
       "      <td>Bronx, NY 10453</td>\n",
       "      <td>1959-07-10</td>\n",
       "      <td>516-275-2292</td>\n",
       "      <td>America/New_York</td>\n",
       "      <td>40.84939</td>\n",
       "      <td>-73.909160</td>\n",
       "    </tr>\n",
       "    <tr>\n",
       "      <th>4</th>\n",
       "      <td>1005</td>\n",
       "      <td>Jeffrey Wilkinson</td>\n",
       "      <td>17 St Marks Pl</td>\n",
       "      <td>Manhattan, NY 10003</td>\n",
       "      <td>1988-09-08</td>\n",
       "      <td>838-830-6960</td>\n",
       "      <td>America/New_York</td>\n",
       "      <td>40.72804</td>\n",
       "      <td>-73.987120</td>\n",
       "    </tr>\n",
       "  </tbody>\n",
       "</table>\n",
       "</div>"
      ],
      "text/plain": [
       "   customerid                   name              address  \\\n",
       "0        1001     Jacqueline Alvarez    105N Elizabeth St   \n",
       "1        1002           Julie Howell      185-1 Linden St   \n",
       "2        1003        Christopher Ali  174-28 Baisley Blvd   \n",
       "3        1004  Christopher Rodriguez    102 Mount Hope Pl   \n",
       "4        1005      Jeffrey Wilkinson       17 St Marks Pl   \n",
       "\n",
       "          citystatezip   birthdate         phone          timezone       lat  \\\n",
       "0  Manhattan, NY 10013  1958-01-23  315-377-5031  America/New_York  40.71817   \n",
       "1   Brooklyn, NY 11221  1956-12-03  680-537-8725  America/New_York  40.69426   \n",
       "2    Jamaica, NY 11434  2001-09-20  315-846-6054  America/New_York  40.68902   \n",
       "3      Bronx, NY 10453  1959-07-10  516-275-2292  America/New_York  40.84939   \n",
       "4  Manhattan, NY 10003  1988-09-08  838-830-6960  America/New_York  40.72804   \n",
       "\n",
       "        long  \n",
       "0 -73.997468  \n",
       "1 -73.921670  \n",
       "2 -73.773470  \n",
       "3 -73.909160  \n",
       "4 -73.987120  "
      ]
     },
     "execution_count": 2,
     "metadata": {},
     "output_type": "execute_result"
    }
   ],
   "source": [
    "cus_df.head()"
   ]
  },
  {
   "cell_type": "markdown",
   "metadata": {},
   "source": [
    "# Night 1\n",
    "For night one, we're looking for a customer who's lastname matches their phone number. First, let's isolate the lastnames of the customers in a new column."
   ]
  },
  {
   "cell_type": "code",
   "execution_count": 3,
   "metadata": {},
   "outputs": [],
   "source": [
    "cus_df['lastname'] = cus_df['name'].str.split().str[-1]"
   ]
  },
  {
   "cell_type": "markdown",
   "metadata": {},
   "source": [
    "Then, let's clean the columns to make it easier to match them later."
   ]
  },
  {
   "cell_type": "code",
   "execution_count": 5,
   "metadata": {
    "scrolled": true
   },
   "outputs": [],
   "source": [
    "cus_df.lastname = cus_df.lastname.str.lower()\n",
    "cus_df.phone = cus_df.phone.str.replace('-', '')"
   ]
  },
  {
   "cell_type": "markdown",
   "metadata": {},
   "source": [
    "After that, map the letters in the last names to the numbers."
   ]
  },
  {
   "cell_type": "code",
   "execution_count": 6,
   "metadata": {
    "scrolled": true
   },
   "outputs": [],
   "source": [
    "key = {'a': '2', 'b': '2', 'c': '2', 'd': '3', 'e': '3', 'f': '3', 'g': '4', 'h': '4', 'i': '4',\n",
    "       'j': '5', 'k': '5', 'l': '5', 'm': '6', 'n': '6', 'o': '6', 'p': '7', 'q': '7',\n",
    "       'r': '7', 's': '7', 't': '8', 'u': '8', 'v': '8', 'w': '9', 'x': '9', 'y': '9',\n",
    "       'z': '9'}\n",
    "cus_df['lastname'] = cus_df['lastname'].replace(key, regex=True)"
   ]
  },
  {
   "cell_type": "markdown",
   "metadata": {},
   "source": [
    "Check where the last name and phone numbers match. We have our customer!"
   ]
  },
  {
   "cell_type": "code",
   "execution_count": 7,
   "metadata": {},
   "outputs": [
    {
     "data": {
      "text/html": [
       "<div>\n",
       "<style scoped>\n",
       "    .dataframe tbody tr th:only-of-type {\n",
       "        vertical-align: middle;\n",
       "    }\n",
       "\n",
       "    .dataframe tbody tr th {\n",
       "        vertical-align: top;\n",
       "    }\n",
       "\n",
       "    .dataframe thead th {\n",
       "        text-align: right;\n",
       "    }\n",
       "</style>\n",
       "<table border=\"1\" class=\"dataframe\">\n",
       "  <thead>\n",
       "    <tr style=\"text-align: right;\">\n",
       "      <th></th>\n",
       "      <th>customerid</th>\n",
       "      <th>name</th>\n",
       "      <th>address</th>\n",
       "      <th>citystatezip</th>\n",
       "      <th>birthdate</th>\n",
       "      <th>phone</th>\n",
       "      <th>timezone</th>\n",
       "      <th>lat</th>\n",
       "      <th>long</th>\n",
       "      <th>lastname</th>\n",
       "    </tr>\n",
       "  </thead>\n",
       "  <tbody>\n",
       "    <tr>\n",
       "      <th>207</th>\n",
       "      <td>1208</td>\n",
       "      <td>Sam Tannenbaum</td>\n",
       "      <td>221 Banker St</td>\n",
       "      <td>Brooklyn, NY 11222</td>\n",
       "      <td>1994-09-13</td>\n",
       "      <td>8266362286</td>\n",
       "      <td>America/New_York</td>\n",
       "      <td>40.7257</td>\n",
       "      <td>-73.9555</td>\n",
       "      <td>8266362286</td>\n",
       "    </tr>\n",
       "  </tbody>\n",
       "</table>\n",
       "</div>"
      ],
      "text/plain": [
       "     customerid            name        address        citystatezip  \\\n",
       "207        1208  Sam Tannenbaum  221 Banker St  Brooklyn, NY 11222   \n",
       "\n",
       "      birthdate       phone          timezone      lat     long    lastname  \n",
       "207  1994-09-13  8266362286  America/New_York  40.7257 -73.9555  8266362286  "
      ]
     },
     "execution_count": 7,
     "metadata": {},
     "output_type": "execute_result"
    }
   ],
   "source": [
    "cus_df[cus_df['phone']==cus_df['lastname']]"
   ]
  },
  {
   "cell_type": "code",
   "execution_count": null,
   "metadata": {},
   "outputs": [],
   "source": []
  }
 ],
 "metadata": {
  "kernelspec": {
   "display_name": "Python 3",
   "language": "python",
   "name": "python3"
  },
  "language_info": {
   "codemirror_mode": {
    "name": "ipython",
    "version": 3
   },
   "file_extension": ".py",
   "mimetype": "text/x-python",
   "name": "python",
   "nbconvert_exporter": "python",
   "pygments_lexer": "ipython3",
   "version": "3.7.4"
  }
 },
 "nbformat": 4,
 "nbformat_minor": 2
}
